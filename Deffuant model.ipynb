{
 "cells": [
  {
   "cell_type": "code",
   "execution_count": null,
   "id": "257404d0",
   "metadata": {
    "ExecuteTime": {
     "start_time": "2022-04-03T21:13:06.913Z"
    }
   },
   "outputs": [],
   "source": [
    "%load_ext autoreload\n",
    "%autoreload 2\n",
    "from model import OpinionModel\n",
    "from agent import OpinionAgent"
   ]
  },
  {
   "cell_type": "code",
   "execution_count": 25,
   "id": "fdf004c5",
   "metadata": {
    "ExecuteTime": {
     "end_time": "2022-04-03T21:12:12.469829Z",
     "start_time": "2022-04-03T21:12:12.391421Z"
    }
   },
   "outputs": [],
   "source": [
    "my_model = OpinionModel(N=100,\n",
    "                        mu=0.5,\n",
    "                        init_u=0.5, extremist_ratio=0.1, d=0.2, extremist_u=0.05, regime=\"all\")"
   ]
  },
  {
   "cell_type": "code",
   "execution_count": 26,
   "id": "c3a27125",
   "metadata": {
    "ExecuteTime": {
     "end_time": "2022-04-03T21:12:13.839105Z",
     "start_time": "2022-04-03T21:12:13.824370Z"
    }
   },
   "outputs": [
    {
     "data": {
      "text/plain": [
       "-0.9720024459419798"
      ]
     },
     "execution_count": 26,
     "metadata": {},
     "output_type": "execute_result"
    }
   ],
   "source": [
    "my_model.schedule._agents[0].x"
   ]
  },
  {
   "cell_type": "code",
   "execution_count": 27,
   "id": "4f310387",
   "metadata": {
    "ExecuteTime": {
     "end_time": "2022-04-03T21:12:15.116206Z",
     "start_time": "2022-04-03T21:12:14.665347Z"
    }
   },
   "outputs": [
    {
     "ename": "AttributeError",
     "evalue": "'int' object has no attribute 'x'",
     "output_type": "error",
     "traceback": [
      "\u001B[0;31m---------------------------------------------------------------------------\u001B[0m",
      "\u001B[0;31mAttributeError\u001B[0m                            Traceback (most recent call last)",
      "Input \u001B[0;32mIn [27]\u001B[0m, in \u001B[0;36m<module>\u001B[0;34m\u001B[0m\n\u001B[1;32m      1\u001B[0m \u001B[38;5;28;01mfor\u001B[39;00m i \u001B[38;5;129;01min\u001B[39;00m \u001B[38;5;28mrange\u001B[39m(\u001B[38;5;241m100\u001B[39m):\n\u001B[0;32m----> 2\u001B[0m     \u001B[43mmy_model\u001B[49m\u001B[38;5;241;43m.\u001B[39;49m\u001B[43mstep\u001B[49m\u001B[43m(\u001B[49m\u001B[43m)\u001B[49m\n",
      "File \u001B[0;32m~/Documents/Фтиад/Армен/OpinionDynamics/model.py:36\u001B[0m, in \u001B[0;36mOpinionModel.step\u001B[0;34m(self)\u001B[0m\n\u001B[1;32m     34\u001B[0m \u001B[38;5;28;01mdef\u001B[39;00m \u001B[38;5;21mstep\u001B[39m(\u001B[38;5;28mself\u001B[39m):\n\u001B[1;32m     35\u001B[0m     \u001B[38;5;28mself\u001B[39m\u001B[38;5;241m.\u001B[39mdatacollector\u001B[38;5;241m.\u001B[39mcollect(\u001B[38;5;28mself\u001B[39m)\n\u001B[0;32m---> 36\u001B[0m     \u001B[38;5;28;43mself\u001B[39;49m\u001B[38;5;241;43m.\u001B[39;49m\u001B[43mschedule\u001B[49m\u001B[38;5;241;43m.\u001B[39;49m\u001B[43mstep\u001B[49m\u001B[43m(\u001B[49m\u001B[43m)\u001B[49m\n",
      "File \u001B[0;32m~/Documents/Фтиад/Армен/OpinionDynamics/scheduler.py:53\u001B[0m, in \u001B[0;36mSmartInteractionStagedActivation.step\u001B[0;34m(self)\u001B[0m\n\u001B[1;32m     51\u001B[0m         \u001B[38;5;28mgetattr\u001B[39m(\u001B[38;5;28mself\u001B[39m\u001B[38;5;241m.\u001B[39m_agents[agent_key], stage)(\u001B[38;5;28mself\u001B[39m\u001B[38;5;241m.\u001B[39m_agents[other_agent])  \u001B[38;5;66;03m# Запускаем функцию.\u001B[39;00m\n\u001B[1;32m     52\u001B[0m     \u001B[38;5;28;01mif\u001B[39;00m \u001B[38;5;28mself\u001B[39m\u001B[38;5;241m.\u001B[39mregime \u001B[38;5;241m==\u001B[39m \u001B[38;5;124m\"\u001B[39m\u001B[38;5;124mall\u001B[39m\u001B[38;5;124m\"\u001B[39m:\n\u001B[0;32m---> 53\u001B[0m         \u001B[38;5;28;43mgetattr\u001B[39;49m\u001B[43m(\u001B[49m\u001B[38;5;28;43mself\u001B[39;49m\u001B[38;5;241;43m.\u001B[39;49m\u001B[43m_agents\u001B[49m\u001B[43m[\u001B[49m\u001B[43magent_key\u001B[49m\u001B[43m]\u001B[49m\u001B[43m,\u001B[49m\u001B[43m \u001B[49m\u001B[43mstage\u001B[49m\u001B[43m)\u001B[49m\u001B[43m(\u001B[49m\u001B[43m)\u001B[49m\n\u001B[1;32m     54\u001B[0m \u001B[38;5;28;01melif\u001B[39;00m \u001B[38;5;124m\"\u001B[39m\u001B[38;5;124mapply\u001B[39m\u001B[38;5;124m\"\u001B[39m \u001B[38;5;241m==\u001B[39m stage:\n\u001B[1;32m     55\u001B[0m     \u001B[38;5;28mgetattr\u001B[39m(\u001B[38;5;28mself\u001B[39m\u001B[38;5;241m.\u001B[39m_agents[agent_key], stage)()  \u001B[38;5;66;03m# Применяем все изменения для нашего малышарика.\u001B[39;00m\n",
      "File \u001B[0;32m~/Documents/Фтиад/Армен/OpinionDynamics/agent.py:43\u001B[0m, in \u001B[0;36mOpinionAgent.fetch_all\u001B[0;34m(self)\u001B[0m\n\u001B[1;32m     40\u001B[0m \u001B[38;5;28;01mdef\u001B[39;00m \u001B[38;5;21mfetch_all\u001B[39m(\u001B[38;5;28mself\u001B[39m):\n\u001B[1;32m     41\u001B[0m     \u001B[38;5;66;03m# Неоптимально, потому что мозги вышли из чата\u001B[39;00m\n\u001B[1;32m     42\u001B[0m     \u001B[38;5;28;01mfor\u001B[39;00m agent \u001B[38;5;129;01min\u001B[39;00m \u001B[38;5;28mself\u001B[39m\u001B[38;5;241m.\u001B[39mmodel\u001B[38;5;241m.\u001B[39mschedule\u001B[38;5;241m.\u001B[39m_agents:\n\u001B[0;32m---> 43\u001B[0m         \u001B[38;5;28;43mself\u001B[39;49m\u001B[38;5;241;43m.\u001B[39;49m\u001B[43mfetch_p2p\u001B[49m\u001B[43m(\u001B[49m\u001B[43magent\u001B[49m\u001B[43m)\u001B[49m\n",
      "File \u001B[0;32m~/Documents/Фтиад/Армен/OpinionDynamics/agent.py:29\u001B[0m, in \u001B[0;36mOpinionAgent.fetch_p2p\u001B[0;34m(self, other_agent)\u001B[0m\n\u001B[1;32m     26\u001B[0m \u001B[38;5;28mself\u001B[39m\u001B[38;5;241m.\u001B[39mdelta_x \u001B[38;5;241m=\u001B[39m \u001B[38;5;241m0\u001B[39m\n\u001B[1;32m     27\u001B[0m \u001B[38;5;28mself\u001B[39m\u001B[38;5;241m.\u001B[39mdelta_u \u001B[38;5;241m=\u001B[39m \u001B[38;5;241m0\u001B[39m\n\u001B[0;32m---> 29\u001B[0m overlap \u001B[38;5;241m=\u001B[39m \u001B[38;5;28mmin\u001B[39m(\u001B[38;5;28mself\u001B[39m\u001B[38;5;241m.\u001B[39mx \u001B[38;5;241m+\u001B[39m \u001B[38;5;28mself\u001B[39m\u001B[38;5;241m.\u001B[39mu, \u001B[43mother_agent\u001B[49m\u001B[38;5;241;43m.\u001B[39;49m\u001B[43mx\u001B[49m \u001B[38;5;241m+\u001B[39m other_agent\u001B[38;5;241m.\u001B[39mu) \u001B[38;5;241m-\u001B[39m \u001B[38;5;28mmax\u001B[39m(\u001B[38;5;28mself\u001B[39m\u001B[38;5;241m.\u001B[39mx \u001B[38;5;241m-\u001B[39m \u001B[38;5;28mself\u001B[39m\u001B[38;5;241m.\u001B[39mu,\n\u001B[1;32m     30\u001B[0m                                                                     other_agent\u001B[38;5;241m.\u001B[39mx \u001B[38;5;241m-\u001B[39m other_agent\u001B[38;5;241m.\u001B[39mu)\n\u001B[1;32m     31\u001B[0m delta_us \u001B[38;5;241m=\u001B[39m overlap \u001B[38;5;241m/\u001B[39m other_agent\u001B[38;5;241m.\u001B[39mu \u001B[38;5;241m-\u001B[39m \u001B[38;5;241m1\u001B[39m\n\u001B[1;32m     32\u001B[0m delta_other \u001B[38;5;241m=\u001B[39m overlap \u001B[38;5;241m/\u001B[39m \u001B[38;5;28mself\u001B[39m\u001B[38;5;241m.\u001B[39mu \u001B[38;5;241m-\u001B[39m \u001B[38;5;241m1\u001B[39m\n",
      "\u001B[0;31mAttributeError\u001B[0m: 'int' object has no attribute 'x'"
     ]
    }
   ],
   "source": [
    "for i in range(100):\n",
    "    my_model.step()"
   ]
  },
  {
   "cell_type": "code",
   "execution_count": 20,
   "id": "4b9837a2",
   "metadata": {
    "ExecuteTime": {
     "end_time": "2022-04-03T21:08:20.310104Z",
     "start_time": "2022-04-03T21:08:20.284889Z"
    }
   },
   "outputs": [
    {
     "data": {
      "text/plain": [
       "-0.9378565558498763"
      ]
     },
     "execution_count": 20,
     "metadata": {},
     "output_type": "execute_result"
    }
   ],
   "source": [
    "my_model.schedule._agents[0].x"
   ]
  },
  {
   "cell_type": "code",
   "execution_count": 22,
   "id": "c4d8bd2c",
   "metadata": {
    "ExecuteTime": {
     "end_time": "2022-04-03T21:08:50.035542Z",
     "start_time": "2022-04-03T21:08:49.992332Z"
    }
   },
   "outputs": [
    {
     "data": {
      "text/html": [
       "<div>\n",
       "<style scoped>\n",
       "    .dataframe tbody tr th:only-of-type {\n",
       "        vertical-align: middle;\n",
       "    }\n",
       "\n",
       "    .dataframe tbody tr th {\n",
       "        vertical-align: top;\n",
       "    }\n",
       "\n",
       "    .dataframe thead th {\n",
       "        text-align: right;\n",
       "    }\n",
       "</style>\n",
       "<table border=\"1\" class=\"dataframe\">\n",
       "  <thead>\n",
       "    <tr style=\"text-align: right;\">\n",
       "      <th></th>\n",
       "      <th></th>\n",
       "      <th>Opinion</th>\n",
       "      <th>Uncertainty</th>\n",
       "      <th>Delta X</th>\n",
       "      <th>Delta U</th>\n",
       "    </tr>\n",
       "    <tr>\n",
       "      <th>Step</th>\n",
       "      <th>AgentID</th>\n",
       "      <th></th>\n",
       "      <th></th>\n",
       "      <th></th>\n",
       "      <th></th>\n",
       "    </tr>\n",
       "  </thead>\n",
       "  <tbody>\n",
       "    <tr>\n",
       "      <th>0</th>\n",
       "      <th>23</th>\n",
       "      <td>-0.512413</td>\n",
       "      <td>0.500000</td>\n",
       "      <td>0.000000e+00</td>\n",
       "      <td>0.000000e+00</td>\n",
       "    </tr>\n",
       "    <tr>\n",
       "      <th>1</th>\n",
       "      <th>23</th>\n",
       "      <td>-0.512413</td>\n",
       "      <td>0.500000</td>\n",
       "      <td>0.000000e+00</td>\n",
       "      <td>0.000000e+00</td>\n",
       "    </tr>\n",
       "    <tr>\n",
       "      <th>2</th>\n",
       "      <th>23</th>\n",
       "      <td>-0.483913</td>\n",
       "      <td>0.500000</td>\n",
       "      <td>2.850049e-02</td>\n",
       "      <td>0.000000e+00</td>\n",
       "    </tr>\n",
       "    <tr>\n",
       "      <th>3</th>\n",
       "      <th>23</th>\n",
       "      <td>-0.458857</td>\n",
       "      <td>0.500000</td>\n",
       "      <td>2.505610e-02</td>\n",
       "      <td>0.000000e+00</td>\n",
       "    </tr>\n",
       "    <tr>\n",
       "      <th>4</th>\n",
       "      <th>23</th>\n",
       "      <td>-0.411637</td>\n",
       "      <td>0.500000</td>\n",
       "      <td>4.722018e-02</td>\n",
       "      <td>0.000000e+00</td>\n",
       "    </tr>\n",
       "    <tr>\n",
       "      <th>...</th>\n",
       "      <th>...</th>\n",
       "      <td>...</td>\n",
       "      <td>...</td>\n",
       "      <td>...</td>\n",
       "      <td>...</td>\n",
       "    </tr>\n",
       "    <tr>\n",
       "      <th>95</th>\n",
       "      <th>23</th>\n",
       "      <td>-0.111596</td>\n",
       "      <td>0.494954</td>\n",
       "      <td>4.928796e-09</td>\n",
       "      <td>1.631254e-09</td>\n",
       "    </tr>\n",
       "    <tr>\n",
       "      <th>96</th>\n",
       "      <th>23</th>\n",
       "      <td>-0.111596</td>\n",
       "      <td>0.494954</td>\n",
       "      <td>0.000000e+00</td>\n",
       "      <td>0.000000e+00</td>\n",
       "    </tr>\n",
       "    <tr>\n",
       "      <th>97</th>\n",
       "      <th>23</th>\n",
       "      <td>-0.111596</td>\n",
       "      <td>0.494954</td>\n",
       "      <td>0.000000e+00</td>\n",
       "      <td>0.000000e+00</td>\n",
       "    </tr>\n",
       "    <tr>\n",
       "      <th>98</th>\n",
       "      <th>23</th>\n",
       "      <td>-0.111596</td>\n",
       "      <td>0.494954</td>\n",
       "      <td>-1.149427e-07</td>\n",
       "      <td>-6.822086e-09</td>\n",
       "    </tr>\n",
       "    <tr>\n",
       "      <th>99</th>\n",
       "      <th>23</th>\n",
       "      <td>-0.111596</td>\n",
       "      <td>0.494954</td>\n",
       "      <td>0.000000e+00</td>\n",
       "      <td>0.000000e+00</td>\n",
       "    </tr>\n",
       "  </tbody>\n",
       "</table>\n",
       "<p>100 rows × 4 columns</p>\n",
       "</div>"
      ],
      "text/plain": [
       "               Opinion  Uncertainty       Delta X       Delta U\n",
       "Step AgentID                                                   \n",
       "0    23      -0.512413     0.500000  0.000000e+00  0.000000e+00\n",
       "1    23      -0.512413     0.500000  0.000000e+00  0.000000e+00\n",
       "2    23      -0.483913     0.500000  2.850049e-02  0.000000e+00\n",
       "3    23      -0.458857     0.500000  2.505610e-02  0.000000e+00\n",
       "4    23      -0.411637     0.500000  4.722018e-02  0.000000e+00\n",
       "...                ...          ...           ...           ...\n",
       "95   23      -0.111596     0.494954  4.928796e-09  1.631254e-09\n",
       "96   23      -0.111596     0.494954  0.000000e+00  0.000000e+00\n",
       "97   23      -0.111596     0.494954  0.000000e+00  0.000000e+00\n",
       "98   23      -0.111596     0.494954 -1.149427e-07 -6.822086e-09\n",
       "99   23      -0.111596     0.494954  0.000000e+00  0.000000e+00\n",
       "\n",
       "[100 rows x 4 columns]"
      ]
     },
     "execution_count": 22,
     "metadata": {},
     "output_type": "execute_result"
    }
   ],
   "source": [
    "my_model.datacollector.get_agent_vars_dataframe().loc[(slice(0,99), 23), :]"
   ]
  },
  {
   "cell_type": "code",
   "execution_count": 23,
   "id": "6016e59c",
   "metadata": {
    "ExecuteTime": {
     "end_time": "2022-04-03T21:11:05.834270Z",
     "start_time": "2022-04-03T21:11:00.663236Z"
    }
   },
   "outputs": [],
   "source": [
    "import seaborn as sns"
   ]
  },
  {
   "cell_type": "code",
   "execution_count": 24,
   "id": "2b4e8aa6",
   "metadata": {
    "ExecuteTime": {
     "end_time": "2022-04-03T21:11:27.469560Z",
     "start_time": "2022-04-03T21:11:26.625510Z"
    }
   },
   "outputs": [
    {
     "data": {
      "text/plain": [
       "<AxesSubplot:xlabel='Step', ylabel='Opinion'>"
      ]
     },
     "execution_count": 24,
     "metadata": {},
     "output_type": "execute_result"
    },
    {
     "data": {
      "image/png": "[encoded data removed]",
      "text/plain": [
       "<Figure size 432x288 with 1 Axes>"
      ]
     },
     "metadata": {
      "needs_background": "light"
     },
     "output_type": "display_data"
    }
   ],
   "source": [
    "opinions = my_model.datacollector.get_agent_vars_dataframe().reset_index()\n",
    "sns.lineplot(data=opinions, x='Step', y='Opinion', hue='AgentID', palette=\"flare\")"
   ]
  },
  {
   "cell_type": "code",
   "execution_count": null,
   "id": "1e571a11",
   "metadata": {},
   "outputs": [],
   "source": []
  }
 ],
 "metadata": {
  "kernelspec": {
   "display_name": "Python 3 (ipykernel)",
   "language": "python",
   "name": "python3"
  },
  "language_info": {
   "codemirror_mode": {
    "name": "ipython",
    "version": 3
   },
   "file_extension": ".py",
   "mimetype": "text/x-python",
   "name": "python",
   "nbconvert_exporter": "python",
   "pygments_lexer": "ipython3",
   "version": "3.9.7"
  },
  "toc": {
   "base_numbering": 1,
   "nav_menu": {},
   "number_sections": true,
   "sideBar": true,
   "skip_h1_title": false,
   "title_cell": "Table of Contents",
   "title_sidebar": "Contents",
   "toc_cell": false,
   "toc_position": {},
   "toc_section_display": true,
   "toc_window_display": false
  }
 },
 "nbformat": 4,
 "nbformat_minor": 5
}