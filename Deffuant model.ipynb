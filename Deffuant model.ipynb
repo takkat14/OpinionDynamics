{
 "cells": [
  {
   "cell_type": "code",
   "execution_count": 3,
   "id": "f5cdb1bd",
   "metadata": {
    "ExecuteTime": {
     "end_time": "2022-03-26T11:59:06.697637Z",
     "start_time": "2022-03-26T11:59:02.369691Z"
    }
   },
   "outputs": [
    {
     "name": "stdout",
     "output_type": "stream",
     "text": [
      "Collecting mesa\n",
      "  Downloading Mesa-0.9.0-py3-none-any.whl (691 kB)\n",
      "\u001b[K     |████████████████████████████████| 691 kB 418 kB/s eta 0:00:01\n",
      "\u001b[?25hRequirement already satisfied: networkx in /Users/takkat14/opt/anaconda3/envs/jupy/lib/python3.9/site-packages (from mesa) (2.6.3)\n",
      "Collecting cookiecutter\n",
      "  Using cached cookiecutter-1.7.3-py2.py3-none-any.whl (34 kB)\n",
      "Requirement already satisfied: pandas in /Users/takkat14/opt/anaconda3/envs/jupy/lib/python3.9/site-packages (from mesa) (1.3.5)\n",
      "Requirement already satisfied: tqdm in /Users/takkat14/opt/anaconda3/envs/jupy/lib/python3.9/site-packages (from mesa) (4.62.3)\n",
      "Requirement already satisfied: tornado in /Users/takkat14/opt/anaconda3/envs/jupy/lib/python3.9/site-packages (from mesa) (6.1)\n",
      "Requirement already satisfied: click in /Users/takkat14/opt/anaconda3/envs/jupy/lib/python3.9/site-packages (from mesa) (8.0.3)\n",
      "Requirement already satisfied: numpy in /Users/takkat14/opt/anaconda3/envs/jupy/lib/python3.9/site-packages (from mesa) (1.22.1)\n",
      "Requirement already satisfied: six>=1.10 in /Users/takkat14/opt/anaconda3/envs/jupy/lib/python3.9/site-packages (from cookiecutter->mesa) (1.16.0)\n",
      "Requirement already satisfied: Jinja2<4.0.0,>=2.7 in /Users/takkat14/opt/anaconda3/envs/jupy/lib/python3.9/site-packages (from cookiecutter->mesa) (3.0.3)\n",
      "Collecting binaryornot>=0.4.4\n",
      "  Using cached binaryornot-0.4.4-py2.py3-none-any.whl (9.0 kB)\n",
      "Collecting poyo>=0.5.0\n",
      "  Using cached poyo-0.5.0-py2.py3-none-any.whl (10 kB)\n",
      "Collecting jinja2-time>=0.2.0\n",
      "  Using cached jinja2_time-0.2.0-py2.py3-none-any.whl (6.4 kB)\n",
      "Collecting python-slugify>=4.0.0\n",
      "  Downloading python_slugify-6.1.1-py2.py3-none-any.whl (9.1 kB)\n",
      "Requirement already satisfied: requests>=2.23.0 in /Users/takkat14/opt/anaconda3/envs/jupy/lib/python3.9/site-packages (from cookiecutter->mesa) (2.27.1)\n",
      "Requirement already satisfied: chardet>=3.0.2 in /Users/takkat14/opt/anaconda3/envs/jupy/lib/python3.9/site-packages (from binaryornot>=0.4.4->cookiecutter->mesa) (4.0.0)\n",
      "Requirement already satisfied: MarkupSafe>=2.0 in /Users/takkat14/opt/anaconda3/envs/jupy/lib/python3.9/site-packages (from Jinja2<4.0.0,>=2.7->cookiecutter->mesa) (2.0.1)\n",
      "Collecting arrow\n",
      "  Downloading arrow-1.2.2-py3-none-any.whl (64 kB)\n",
      "\u001b[K     |████████████████████████████████| 64 kB 10.4 MB/s eta 0:00:01\n",
      "\u001b[?25hCollecting text-unidecode>=1.3\n",
      "  Using cached text_unidecode-1.3-py2.py3-none-any.whl (78 kB)\n",
      "Requirement already satisfied: urllib3<1.27,>=1.21.1 in /Users/takkat14/opt/anaconda3/envs/jupy/lib/python3.9/site-packages (from requests>=2.23.0->cookiecutter->mesa) (1.26.8)\n",
      "Requirement already satisfied: certifi>=2017.4.17 in /Users/takkat14/opt/anaconda3/envs/jupy/lib/python3.9/site-packages (from requests>=2.23.0->cookiecutter->mesa) (2021.10.8)\n",
      "Requirement already satisfied: charset-normalizer~=2.0.0 in /Users/takkat14/opt/anaconda3/envs/jupy/lib/python3.9/site-packages (from requests>=2.23.0->cookiecutter->mesa) (2.0.10)\n",
      "Requirement already satisfied: idna<4,>=2.5 in /Users/takkat14/opt/anaconda3/envs/jupy/lib/python3.9/site-packages (from requests>=2.23.0->cookiecutter->mesa) (3.3)\n",
      "Requirement already satisfied: python-dateutil>=2.7.0 in /Users/takkat14/opt/anaconda3/envs/jupy/lib/python3.9/site-packages (from arrow->jinja2-time>=0.2.0->cookiecutter->mesa) (2.8.2)\n",
      "Requirement already satisfied: pytz>=2017.3 in /Users/takkat14/opt/anaconda3/envs/jupy/lib/python3.9/site-packages (from pandas->mesa) (2021.3)\n",
      "Installing collected packages: text-unidecode, arrow, python-slugify, poyo, jinja2-time, binaryornot, cookiecutter, mesa\n",
      "Successfully installed arrow-1.2.2 binaryornot-0.4.4 cookiecutter-1.7.3 jinja2-time-0.2.0 mesa-0.9.0 poyo-0.5.0 python-slugify-6.1.1 text-unidecode-1.3\n"
     ]
    }
   ],
   "source": [
    "!pip install mesa"
   ]
  },
  {
   "cell_type": "code",
   "execution_count": 4,
   "id": "daab2930",
   "metadata": {
    "ExecuteTime": {
     "end_time": "2022-03-26T11:59:23.296570Z",
     "start_time": "2022-03-26T11:59:23.292676Z"
    }
   },
   "outputs": [],
   "source": [
    "from mesa import Agent, Model"
   ]
  },
  {
   "cell_type": "code",
   "execution_count": 5,
   "id": "430f6cb9",
   "metadata": {
    "ExecuteTime": {
     "end_time": "2022-03-26T14:09:21.513886Z",
     "start_time": "2022-03-26T14:09:21.498179Z"
    }
   },
   "outputs": [],
   "source": [
    "class OpinionAgent(Agent):\n",
    "    \"\"\" An agent with fixed initial wealth.\"\"\"\n",
    "    def __init__(self, x, u, mu, unique_id, model):\n",
    "        super().__init__(unique_id, model)\n",
    "        self.x = x\n",
    "        self.u = u\n",
    "        self.mu = mu\n",
    "    \n",
    "    def influence(self, agent):\n",
    "        overlap = min(self.x + self.u, agent.x + agent.u) - max(self.x - self.u, agent.x - agent.u)\n",
    "        delta = overlap / self.u - 1\n",
    "        return [self.mu * delta * (agent.x - self.x), self.mu * delta * (agent.u - self.u)] if delta > 0 else [0, 0]\n",
    "    \n",
    "    def step(self, agents):\n",
    "        # do something with influence\n",
    "        fin_influence = np.array([influence(agent) for agent in agents])\n",
    "        self.x += sum(fin_influence[:, 0])\n",
    "        self.x = max(self.x , -1)\n",
    "        self.x = min(self.x , 1)\n",
    "        self.u += sum(fin_influence[:, 1])"
   ]
  },
  {
   "cell_type": "code",
   "execution_count": null,
   "id": "cf19439b",
   "metadata": {},
   "outputs": [],
   "source": [
    "class OpinionModel(Model):\n",
    "    def __init__(self, N, width, height):\n",
    "        self.num_agents = N\n",
    "        # Create agents\n",
    "        for i in range(self.num_agents):\n",
    "            a = MoneyAgent(i, self)\n",
    "            self.schedule.add(a)\n",
    "            # Add the agent to a random grid cell\n",
    "            x = self.random.randrange(self.grid.width)\n",
    "            y = self.random.randrange(self.grid.height)\n",
    "            self.grid.place_agent(a, (x, y))\n",
    "\n",
    "        self.datacollector = DataCollector(\n",
    "            model_reporters={\"Gini\": compute_gini},\n",
    "            agent_reporters={\"Wealth\": \"wealth\"}\n",
    "        )\n",
    "\n",
    "    def step(self):\n",
    "        self.datacollector.collect(self)\n",
    "        self.schedule.step()\n",
    "        "
   ]
  }
 ],
 "metadata": {
  "kernelspec": {
   "display_name": "Python 3 (ipykernel)",
   "language": "python",
   "name": "python3"
  },
  "language_info": {
   "codemirror_mode": {
    "name": "ipython",
    "version": 3
   },
   "file_extension": ".py",
   "mimetype": "text/x-python",
   "name": "python",
   "nbconvert_exporter": "python",
   "pygments_lexer": "ipython3",
   "version": "3.9.7"
  },
  "toc": {
   "base_numbering": 1,
   "nav_menu": {},
   "number_sections": true,
   "sideBar": true,
   "skip_h1_title": false,
   "title_cell": "Table of Contents",
   "title_sidebar": "Contents",
   "toc_cell": false,
   "toc_position": {},
   "toc_section_display": true,
   "toc_window_display": false
  }
 },
 "nbformat": 4,
 "nbformat_minor": 5
}
