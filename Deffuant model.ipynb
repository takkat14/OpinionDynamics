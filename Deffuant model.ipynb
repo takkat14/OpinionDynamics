{
 "cells": [
  {
   "cell_type": "code",
   "execution_count": 96,
   "id": "257404d0",
   "metadata": {
    "ExecuteTime": {
     "end_time": "2022-04-05T15:45:50.587735Z",
     "start_time": "2022-04-05T15:45:49.153125Z"
    }
   },
   "outputs": [
    {
     "name": "stdout",
     "output_type": "stream",
     "text": [
      "The autoreload extension is already loaded. To reload it, use:\n",
      "  %reload_ext autoreload\n"
     ]
    }
   ],
   "source": [
    "%load_ext autoreload\n",
    "%autoreload 2\n",
    "from model import OpinionModel\n",
    "from agent import OpinionAgent"
   ]
  },
  {
   "cell_type": "code",
   "execution_count": 107,
   "id": "fdf004c5",
   "metadata": {
    "ExecuteTime": {
     "end_time": "2022-04-05T15:46:53.763225Z",
     "start_time": "2022-04-05T15:46:53.706137Z"
    }
   },
   "outputs": [],
   "source": [
    "my_model = OpinionModel(N=10,\n",
    "                        mu=0.5,\n",
    "                        init_u=0.5, extremist_ratio=0.1, d=0.2, extremist_u=0.05, regime=\"p2p\")"
   ]
  },
  {
   "cell_type": "code",
   "execution_count": 108,
   "id": "c3a27125",
   "metadata": {
    "ExecuteTime": {
     "end_time": "2022-04-05T15:46:54.494007Z",
     "start_time": "2022-04-05T15:46:54.462126Z"
    }
   },
   "outputs": [
    {
     "data": {
      "text/plain": [
       "-0.5847746685541919"
      ]
     },
     "execution_count": 108,
     "metadata": {},
     "output_type": "execute_result"
    }
   ],
   "source": [
    "my_model.schedule._agents[0].x"
   ]
  },
  {
   "cell_type": "code",
   "execution_count": 109,
   "id": "4f310387",
   "metadata": {
    "ExecuteTime": {
     "end_time": "2022-04-05T15:46:55.174994Z",
     "start_time": "2022-04-05T15:46:55.145161Z"
    }
   },
   "outputs": [],
   "source": [
    "my_model.run_model()"
   ]
  },
  {
   "cell_type": "code",
   "execution_count": 110,
   "id": "4b9837a2",
   "metadata": {
    "ExecuteTime": {
     "end_time": "2022-04-05T15:46:57.471968Z",
     "start_time": "2022-04-05T15:46:57.445659Z"
    }
   },
   "outputs": [
    {
     "data": {
      "text/plain": [
       "-0.5847746685541919"
      ]
     },
     "execution_count": 110,
     "metadata": {},
     "output_type": "execute_result"
    }
   ],
   "source": [
    "my_model.schedule._agents[0].x"
   ]
  },
  {
   "cell_type": "code",
   "execution_count": 111,
   "id": "c4d8bd2c",
   "metadata": {
    "ExecuteTime": {
     "end_time": "2022-04-05T15:46:58.084739Z",
     "start_time": "2022-04-05T15:46:58.046733Z"
    }
   },
   "outputs": [
    {
     "data": {
      "text/html": [
       "<div>\n",
       "<style scoped>\n",
       "    .dataframe tbody tr th:only-of-type {\n",
       "        vertical-align: middle;\n",
       "    }\n",
       "\n",
       "    .dataframe tbody tr th {\n",
       "        vertical-align: top;\n",
       "    }\n",
       "\n",
       "    .dataframe thead th {\n",
       "        text-align: right;\n",
       "    }\n",
       "</style>\n",
       "<table border=\"1\" class=\"dataframe\">\n",
       "  <thead>\n",
       "    <tr style=\"text-align: right;\">\n",
       "      <th></th>\n",
       "      <th></th>\n",
       "      <th>Opinion</th>\n",
       "      <th>Uncertainty</th>\n",
       "      <th>Delta X</th>\n",
       "      <th>Delta U</th>\n",
       "    </tr>\n",
       "    <tr>\n",
       "      <th>Step</th>\n",
       "      <th>AgentID</th>\n",
       "      <th></th>\n",
       "      <th></th>\n",
       "      <th></th>\n",
       "      <th></th>\n",
       "    </tr>\n",
       "  </thead>\n",
       "  <tbody>\n",
       "    <tr>\n",
       "      <th rowspan=\"5\" valign=\"top\">0</th>\n",
       "      <th>0</th>\n",
       "      <td>-0.584775</td>\n",
       "      <td>0.05</td>\n",
       "      <td>0.000000e+00</td>\n",
       "      <td>0.0</td>\n",
       "    </tr>\n",
       "    <tr>\n",
       "      <th>1</th>\n",
       "      <td>-0.338973</td>\n",
       "      <td>0.50</td>\n",
       "      <td>0.000000e+00</td>\n",
       "      <td>0.0</td>\n",
       "    </tr>\n",
       "    <tr>\n",
       "      <th>2</th>\n",
       "      <td>-0.243989</td>\n",
       "      <td>0.50</td>\n",
       "      <td>0.000000e+00</td>\n",
       "      <td>0.0</td>\n",
       "    </tr>\n",
       "    <tr>\n",
       "      <th>3</th>\n",
       "      <td>-0.021122</td>\n",
       "      <td>0.50</td>\n",
       "      <td>0.000000e+00</td>\n",
       "      <td>0.0</td>\n",
       "    </tr>\n",
       "    <tr>\n",
       "      <th>4</th>\n",
       "      <td>0.323040</td>\n",
       "      <td>0.50</td>\n",
       "      <td>0.000000e+00</td>\n",
       "      <td>0.0</td>\n",
       "    </tr>\n",
       "    <tr>\n",
       "      <th>...</th>\n",
       "      <th>...</th>\n",
       "      <td>...</td>\n",
       "      <td>...</td>\n",
       "      <td>...</td>\n",
       "      <td>...</td>\n",
       "    </tr>\n",
       "    <tr>\n",
       "      <th rowspan=\"5\" valign=\"top\">43</th>\n",
       "      <th>5</th>\n",
       "      <td>0.490593</td>\n",
       "      <td>0.50</td>\n",
       "      <td>2.853089e-07</td>\n",
       "      <td>0.0</td>\n",
       "    </tr>\n",
       "    <tr>\n",
       "      <th>6</th>\n",
       "      <td>0.490593</td>\n",
       "      <td>0.50</td>\n",
       "      <td>1.960209e-06</td>\n",
       "      <td>0.0</td>\n",
       "    </tr>\n",
       "    <tr>\n",
       "      <th>7</th>\n",
       "      <td>0.490592</td>\n",
       "      <td>0.50</td>\n",
       "      <td>-8.469057e-07</td>\n",
       "      <td>0.0</td>\n",
       "    </tr>\n",
       "    <tr>\n",
       "      <th>8</th>\n",
       "      <td>0.490591</td>\n",
       "      <td>0.50</td>\n",
       "      <td>5.115969e-07</td>\n",
       "      <td>0.0</td>\n",
       "    </tr>\n",
       "    <tr>\n",
       "      <th>9</th>\n",
       "      <td>0.490592</td>\n",
       "      <td>0.50</td>\n",
       "      <td>-1.113303e-06</td>\n",
       "      <td>0.0</td>\n",
       "    </tr>\n",
       "  </tbody>\n",
       "</table>\n",
       "<p>440 rows × 4 columns</p>\n",
       "</div>"
      ],
      "text/plain": [
       "               Opinion  Uncertainty       Delta X  Delta U\n",
       "Step AgentID                                              \n",
       "0    0       -0.584775         0.05  0.000000e+00      0.0\n",
       "     1       -0.338973         0.50  0.000000e+00      0.0\n",
       "     2       -0.243989         0.50  0.000000e+00      0.0\n",
       "     3       -0.021122         0.50  0.000000e+00      0.0\n",
       "     4        0.323040         0.50  0.000000e+00      0.0\n",
       "...                ...          ...           ...      ...\n",
       "43   5        0.490593         0.50  2.853089e-07      0.0\n",
       "     6        0.490593         0.50  1.960209e-06      0.0\n",
       "     7        0.490592         0.50 -8.469057e-07      0.0\n",
       "     8        0.490591         0.50  5.115969e-07      0.0\n",
       "     9        0.490592         0.50 -1.113303e-06      0.0\n",
       "\n",
       "[440 rows x 4 columns]"
      ]
     },
     "execution_count": 111,
     "metadata": {},
     "output_type": "execute_result"
    }
   ],
   "source": [
    "my_model.datacollector.get_agent_vars_dataframe()"
   ]
  },
  {
   "cell_type": "code",
   "execution_count": 112,
   "id": "20babb14",
   "metadata": {
    "ExecuteTime": {
     "end_time": "2022-04-05T15:46:58.792466Z",
     "start_time": "2022-04-05T15:46:58.766781Z"
    }
   },
   "outputs": [],
   "source": [
    "import seaborn as sns"
   ]
  },
  {
   "cell_type": "code",
   "execution_count": 114,
   "id": "2b4e8aa6",
   "metadata": {
    "ExecuteTime": {
     "end_time": "2022-04-05T15:47:02.986178Z",
     "start_time": "2022-04-05T15:47:02.773352Z"
    }
   },
   "outputs": [
    {
     "data": {
      "text/plain": [
       "<AxesSubplot:xlabel='Step', ylabel='Opinion'>"
      ]
     },
     "execution_count": 114,
     "metadata": {},
     "output_type": "execute_result"
    },
    {
     "data": {
      "image/png": "[encoded data removed]",
      "text/plain": [
       "<Figure size 432x288 with 1 Axes>"
      ]
     },
     "metadata": {
      "needs_background": "light"
     },
     "output_type": "display_data"
    }
   ],
   "source": [
    "opinions = my_model.datacollector.get_agent_vars_dataframe().reset_index()\n",
    "sns.lineplot(data=opinions, x='Step', y='Opinion', hue='AgentID', palette=\"flare\")"
   ]
  },
  {
   "cell_type": "code",
   "execution_count": null,
   "id": "8c16e1e0",
   "metadata": {},
   "outputs": [],
   "source": []
  }
 ],
 "metadata": {
  "kernelspec": {
   "display_name": "Python 3 (ipykernel)",
   "language": "python",
   "name": "python3"
  },
  "language_info": {
   "codemirror_mode": {
    "name": "ipython",
    "version": 3
   },
   "file_extension": ".py",
   "mimetype": "text/x-python",
   "name": "python",
   "nbconvert_exporter": "python",
   "pygments_lexer": "ipython3",
   "version": "3.9.7"
  },
  "toc": {
   "base_numbering": 1,
   "nav_menu": {},
   "number_sections": true,
   "sideBar": true,
   "skip_h1_title": false,
   "title_cell": "Table of Contents",
   "title_sidebar": "Contents",
   "toc_cell": false,
   "toc_position": {},
   "toc_section_display": true,
   "toc_window_display": false
  }
 },
 "nbformat": 4,
 "nbformat_minor": 5
}
