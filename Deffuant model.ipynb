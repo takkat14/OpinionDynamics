{
 "cells": [
  {
   "cell_type": "code",
   "execution_count": 51,
   "id": "257404d0",
   "metadata": {
    "ExecuteTime": {
     "end_time": "2022-04-06T14:12:02.793575Z",
     "start_time": "2022-04-06T14:12:02.670145Z"
    }
   },
   "outputs": [
    {
     "name": "stdout",
     "output_type": "stream",
     "text": [
      "The autoreload extension is already loaded. To reload it, use:\n",
      "  %reload_ext autoreload\n"
     ]
    }
   ],
   "source": [
    "%load_ext autoreload\n",
    "%autoreload 2\n",
    "from model.model import OpinionModel"
   ]
  },
  {
   "cell_type": "code",
   "execution_count": 52,
   "id": "fdf004c5",
   "metadata": {
    "ExecuteTime": {
     "end_time": "2022-04-06T14:12:03.137357Z",
     "start_time": "2022-04-06T14:12:03.107995Z"
    }
   },
   "outputs": [],
   "source": [
    "my_model = OpinionModel(num_agents=200,\n",
    "                        mu=0.5,\n",
    "                        init_u=1.2, extremist_ratio=0.25, d=.0, \n",
    "                        extremist_u=0.1, regime=\"all\",\n",
    "                        max_iter=1e+5,\n",
    "                        eps=1e-4\n",
    "                       )"
   ]
  },
  {
   "cell_type": "code",
   "execution_count": 53,
   "id": "c3a27125",
   "metadata": {
    "ExecuteTime": {
     "end_time": "2022-04-06T14:12:03.663261Z",
     "start_time": "2022-04-06T14:12:03.634669Z"
    }
   },
   "outputs": [
    {
     "data": {
      "text/plain": [
       "-0.998856207744113"
      ]
     },
     "execution_count": 53,
     "metadata": {},
     "output_type": "execute_result"
    }
   ],
   "source": [
    "my_model.schedule._agents[0].x"
   ]
  },
  {
   "cell_type": "code",
   "execution_count": 54,
   "id": "4f310387",
   "metadata": {
    "ExecuteTime": {
     "end_time": "2022-04-06T14:12:12.288723Z",
     "start_time": "2022-04-06T14:12:04.090469Z"
    }
   },
   "outputs": [
    {
     "name": "stdout",
     "output_type": "stream",
     "text": [
      "Elapsed 0 steps\n",
      "Elapsed 100 steps\n",
      "Elapsed 200 steps\n"
     ]
    }
   ],
   "source": [
    "my_model.run_model()"
   ]
  },
  {
   "cell_type": "code",
   "execution_count": 55,
   "id": "4b9837a2",
   "metadata": {
    "ExecuteTime": {
     "end_time": "2022-04-06T14:12:12.304927Z",
     "start_time": "2022-04-06T14:12:12.289873Z"
    }
   },
   "outputs": [
    {
     "data": {
      "text/plain": [
       "-0.8655415823786146"
      ]
     },
     "execution_count": 55,
     "metadata": {},
     "output_type": "execute_result"
    }
   ],
   "source": [
    "my_model.schedule._agents[0].x"
   ]
  },
  {
   "cell_type": "code",
   "execution_count": 120,
   "id": "c4d8bd2c",
   "metadata": {
    "ExecuteTime": {
     "end_time": "2022-04-06T11:58:24.868640Z",
     "start_time": "2022-04-06T11:58:24.806158Z"
    }
   },
   "outputs": [
    {
     "data": {
      "text/plain": [
       "{-0.9, 0.0, 0.9}"
      ]
     },
     "execution_count": 120,
     "metadata": {},
     "output_type": "execute_result"
    }
   ],
   "source": [
    "set(my_model.datacollector.get_agent_vars_dataframe().tail(200)['Opinion'].apply(lambda x: round(x, 2)))"
   ]
  },
  {
   "cell_type": "code",
   "execution_count": 121,
   "id": "927d92b7",
   "metadata": {
    "ExecuteTime": {
     "end_time": "2022-04-06T11:58:25.628060Z",
     "start_time": "2022-04-06T11:58:25.600321Z"
    }
   },
   "outputs": [
    {
     "data": {
      "text/plain": [
       "262"
      ]
     },
     "execution_count": 121,
     "metadata": {},
     "output_type": "execute_result"
    }
   ],
   "source": [
    "my_model.schedule.steps"
   ]
  },
  {
   "cell_type": "code",
   "execution_count": 122,
   "id": "c81f1fc3",
   "metadata": {
    "ExecuteTime": {
     "end_time": "2022-04-06T11:58:26.282408Z",
     "start_time": "2022-04-06T11:58:26.254073Z"
    }
   },
   "outputs": [],
   "source": [
    "import numpy as np"
   ]
  },
  {
   "cell_type": "code",
   "execution_count": 123,
   "id": "45e384bb",
   "metadata": {
    "ExecuteTime": {
     "end_time": "2022-04-06T11:58:26.954480Z",
     "start_time": "2022-04-06T11:58:26.926643Z"
    }
   },
   "outputs": [
    {
     "data": {
      "text/plain": [
       "{-0.9: 109, 0.0: 2, 0.9: 89}"
      ]
     },
     "execution_count": 123,
     "metadata": {},
     "output_type": "execute_result"
    }
   ],
   "source": [
    "my_model.get_clusters()"
   ]
  },
  {
   "cell_type": "code",
   "execution_count": 124,
   "id": "13e5b702",
   "metadata": {
    "ExecuteTime": {
     "end_time": "2022-04-06T11:58:27.483147Z",
     "start_time": "2022-04-06T11:58:27.454626Z"
    }
   },
   "outputs": [
    {
     "data": {
      "text/plain": [
       "0.49564444444444455"
      ]
     },
     "execution_count": 124,
     "metadata": {},
     "output_type": "execute_result"
    }
   ],
   "source": [
    "my_model.check_clusters_convergence()"
   ]
  },
  {
   "cell_type": "code",
   "execution_count": 125,
   "id": "20babb14",
   "metadata": {
    "ExecuteTime": {
     "end_time": "2022-04-06T11:58:29.303139Z",
     "start_time": "2022-04-06T11:58:29.274280Z"
    }
   },
   "outputs": [],
   "source": [
    "import seaborn as sns"
   ]
  },
  {
   "cell_type": "code",
   "execution_count": 65,
   "id": "28b0bac3",
   "metadata": {
    "ExecuteTime": {
     "end_time": "2022-04-06T14:22:37.134305Z",
     "start_time": "2022-04-06T14:22:37.023711Z"
    }
   },
   "outputs": [],
   "source": [
    "opinions = my_model.datacollector.get_agent_vars_dataframe().reset_index()\n",
    "opinions['cluster'] = opinions['Uncertainty'].apply(lambda x: round(x, 1))"
   ]
  },
  {
   "cell_type": "code",
   "execution_count": 70,
   "id": "d24cf304",
   "metadata": {
    "ExecuteTime": {
     "end_time": "2022-04-06T14:24:35.612797Z",
     "start_time": "2022-04-06T14:24:35.585418Z"
    }
   },
   "outputs": [],
   "source": [
    "import matplotlib.pyplot as plt\n",
    "from matplotlib.colors import LinearSegmentedColormap\n",
    "\n",
    "def plot_opinions(model: OpinionModel):\n",
    "    cmap = LinearSegmentedColormap.from_list(\"rg\", [\"red\", \"yellow\", \"yellow\", \"lime\"])\n",
    "\n",
    "    opinions = model.datacollector.get_agent_vars_dataframe().reset_index()\n",
    "    plt.figure(figsize=(15, 6))\n",
    "    plot = plt.scatter(\n",
    "        opinions.Step, opinions.Opinion, c=opinions.Uncertainty, cmap=cmap\n",
    "    )\n",
    "    plt.clf()\n",
    "    plt.colorbar(plot, label=\"Uncertainty\")\n",
    "    sns.lineplot(\n",
    "        data=opinions,\n",
    "        x=\"Step\",\n",
    "        y=\"Opinion\",\n",
    "        hue=\"Uncertainty\",\n",
    "        palette=cmap,\n",
    "        legend=None,\n",
    "        size=3,\n",
    "        marker=\",\",\n",
    "    )"
   ]
  },
  {
   "cell_type": "code",
   "execution_count": null,
   "id": "f0db63ec",
   "metadata": {
    "ExecuteTime": {
     "start_time": "2022-04-06T14:24:36.548Z"
    }
   },
   "outputs": [
    {
     "name": "stderr",
     "output_type": "stream",
     "text": [
      "/var/folders/fd/wgp9jk8x1msd6_yg7qnrxj0r0000gn/T/ipykernel_69362/1398693586.py:13: MatplotlibDeprecationWarning: Starting from Matplotlib 3.6, colorbar() will steal space from the mappable's axes, rather than from the current axes, to place the colorbar.  To silence this warning, explicitly pass the 'ax' argument to colorbar().\n",
      "  plt.colorbar(plot, label=\"Uncertainty\")\n"
     ]
    }
   ],
   "source": [
    "plot_opinions(my_model)"
   ]
  },
  {
   "cell_type": "code",
   "execution_count": 64,
   "id": "2b4e8aa6",
   "metadata": {
    "ExecuteTime": {
     "end_time": "2022-04-06T14:20:55.553226Z",
     "start_time": "2022-04-06T14:20:46.529871Z"
    }
   },
   "outputs": [
    {
     "data": {
      "text/plain": [
       "<AxesSubplot:xlabel='Step', ylabel='Opinion'>"
      ]
     },
     "execution_count": 64,
     "metadata": {},
     "output_type": "execute_result"
    },
    {
     "data": {
      "image/png": "[encoded data removed]",
      "text/plain": [
       "<Figure size 432x288 with 1 Axes>"
      ]
     },
     "metadata": {
      "needs_background": "light"
     },
     "output_type": "display_data"
    }
   ],
   "source": [
    "import seaborn as sns\n",
    "sns.lineplot(data=opinions, x='Step', y='Opinion', hue=\"cluster\")"
   ]
  },
  {
   "cell_type": "code",
   "execution_count": 16,
   "id": "8c16e1e0",
   "metadata": {
    "ExecuteTime": {
     "end_time": "2022-04-05T22:28:55.400946Z",
     "start_time": "2022-04-05T22:28:55.366267Z"
    }
   },
   "outputs": [],
   "source": [
    "df = my_model.datacollector.get_agent_vars_dataframe().reset_index()"
   ]
  },
  {
   "cell_type": "code",
   "execution_count": 17,
   "id": "199c343b",
   "metadata": {
    "ExecuteTime": {
     "end_time": "2022-04-05T22:29:05.789919Z",
     "start_time": "2022-04-05T22:29:05.754801Z"
    }
   },
   "outputs": [
    {
     "data": {
      "text/html": [
       "<div>\n",
       "<style scoped>\n",
       "    .dataframe tbody tr th:only-of-type {\n",
       "        vertical-align: middle;\n",
       "    }\n",
       "\n",
       "    .dataframe tbody tr th {\n",
       "        vertical-align: top;\n",
       "    }\n",
       "\n",
       "    .dataframe thead th {\n",
       "        text-align: right;\n",
       "    }\n",
       "</style>\n",
       "<table border=\"1\" class=\"dataframe\">\n",
       "  <thead>\n",
       "    <tr style=\"text-align: right;\">\n",
       "      <th></th>\n",
       "      <th>Step</th>\n",
       "      <th>AgentID</th>\n",
       "      <th>Opinion</th>\n",
       "      <th>Uncertainty</th>\n",
       "      <th>Delta X</th>\n",
       "      <th>Delta U</th>\n",
       "    </tr>\n",
       "  </thead>\n",
       "  <tbody>\n",
       "    <tr>\n",
       "      <th>10</th>\n",
       "      <td>0</td>\n",
       "      <td>10</td>\n",
       "      <td>-0.818181</td>\n",
       "      <td>0.5</td>\n",
       "      <td>0</td>\n",
       "      <td>0</td>\n",
       "    </tr>\n",
       "  </tbody>\n",
       "</table>\n",
       "</div>"
      ],
      "text/plain": [
       "    Step  AgentID   Opinion  Uncertainty  Delta X  Delta U\n",
       "10     0       10 -0.818181          0.5        0        0"
      ]
     },
     "execution_count": 17,
     "metadata": {},
     "output_type": "execute_result"
    }
   ],
   "source": [
    "df[df['AgentID'] == 10]"
   ]
  },
  {
   "cell_type": "code",
   "execution_count": 86,
   "id": "056795cc",
   "metadata": {
    "ExecuteTime": {
     "end_time": "2022-04-05T23:29:03.951057Z",
     "start_time": "2022-04-05T23:29:03.281322Z"
    }
   },
   "outputs": [],
   "source": [
    "from mesa.batchrunner import batch_run"
   ]
  },
  {
   "cell_type": "code",
   "execution_count": null,
   "id": "4f999b86",
   "metadata": {},
   "outputs": [],
   "source": [
    "params = {\n",
    "    num_agents: [1000],\n",
    "    mu=[],\n",
    "    init_u=0.5, extremist_ratio=0.3, d=0.2, \n",
    "    extremist_u=0.05, regime=\"p2p\",\n",
    "    max_iter=1e+5,\n",
    "    eps=1e-8\n",
    "}"
   ]
  },
  {
   "cell_type": "code",
   "execution_count": null,
   "id": "64195c64",
   "metadata": {},
   "outputs": [],
   "source": [
    "batch_run(OpinionModel, )"
   ]
  }
 ],
 "metadata": {
  "kernelspec": {
   "display_name": "Python 3 (ipykernel)",
   "language": "python",
   "name": "python3"
  },
  "language_info": {
   "codemirror_mode": {
    "name": "ipython",
    "version": 3
   },
   "file_extension": ".py",
   "mimetype": "text/x-python",
   "name": "python",
   "nbconvert_exporter": "python",
   "pygments_lexer": "ipython3",
   "version": "3.9.7"
  },
  "toc": {
   "base_numbering": 1,
   "nav_menu": {},
   "number_sections": true,
   "sideBar": true,
   "skip_h1_title": false,
   "title_cell": "Table of Contents",
   "title_sidebar": "Contents",
   "toc_cell": false,
   "toc_position": {},
   "toc_section_display": true,
   "toc_window_display": false
  }
 },
 "nbformat": 4,
 "nbformat_minor": 5
}