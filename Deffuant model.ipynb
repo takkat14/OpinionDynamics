{
 "cells": [
  {
   "cell_type": "code",
   "execution_count": null,
   "id": "f5cdb1bd",
   "metadata": {
    "ExecuteTime": {
     "end_time": "2022-04-02T15:39:56.217346Z",
     "start_time": "2022-04-02T15:39:56.211958Z"
    }
   },
   "outputs": [],
   "source": [
    "# !pip install mesa"
   ]
  },
  {
   "cell_type": "code",
   "execution_count": null,
   "id": "daab2930",
   "metadata": {
    "ExecuteTime": {
     "end_time": "2022-04-02T15:39:58.548394Z",
     "start_time": "2022-04-02T15:39:58.545448Z"
    }
   },
   "outputs": [],
   "source": [
    "# from mesa import Agent, Model"
   ]
  },
  {
   "cell_type": "code",
   "execution_count": null,
   "id": "430f6cb9",
   "metadata": {
    "ExecuteTime": {
     "end_time": "2022-03-26T14:09:21.513886Z",
     "start_time": "2022-03-26T14:09:21.498179Z"
    }
   },
   "outputs": [],
   "source": [
    "# class OpinionAgent(Agent):\n",
    "#     \"\"\" An agent with fixed initial wealth.\"\"\"\n",
    "#     def __init__(self, x, u, mu, unique_id, model):\n",
    "#         super().__init__(unique_id, model)\n",
    "#         self.x = x\n",
    "#         self.u = u\n",
    "#         self.mu = mu\n",
    "    \n",
    "#     def influence(self, agent):\n",
    "#         overlap = min(self.x + self.u, agent.x + agent.u) - max(self.x - self.u, agent.x - agent.u)\n",
    "#         delta = overlap / self.u - 1\n",
    "#         return [self.mu * delta * (agent.x - self.x), self.mu * delta * (agent.u - self.u)] if delta > 0 else [0, 0]\n",
    "    \n",
    "#     def step(self, agents):\n",
    "#         # do something with influence\n",
    "#         fin_influence = np.array([influence(agent) for agent in agents])\n",
    "#         self.x += sum(fin_influence[:, 0])\n",
    "#         self.x = max(self.x , -1)\n",
    "#         self.x = min(self.x , 1)\n",
    "#         self.u += sum(fin_influence[:, 1])"
   ]
  },
  {
   "cell_type": "code",
   "execution_count": null,
   "id": "cf19439b",
   "metadata": {
    "ExecuteTime": {
     "end_time": "2022-04-02T15:40:04.692357Z",
     "start_time": "2022-04-02T15:40:04.687238Z"
    }
   },
   "outputs": [],
   "source": [
    "# class OpinionModel(Model):\n",
    "#     def __init__(self, N, width, height):\n",
    "#         self.num_agents = N\n",
    "#         # Create agents\n",
    "#         for i in range(self.num_agents):\n",
    "#             a = MoneyAgent(i, self)\n",
    "#             self.schedule.add(a)\n",
    "#             # Add the agent to a random grid cell\n",
    "#             x = self.random.randrange(self.grid.width)\n",
    "#             y = self.random.randrange(self.grid.height)\n",
    "#             self.grid.place_agent(a, (x, y))\n",
    "\n",
    "#         self.datacollector = DataCollector(\n",
    "#             model_reporters={\"Gini\": compute_gini},\n",
    "#             agent_reporters={\"Wealth\": \"wealth\"}\n",
    "#         )\n",
    "\n",
    "#     def step(self):\n",
    "#         self.datacollector.collect(self)\n",
    "#         self.schedule.step()\n",
    "        "
   ]
  },
  {
   "cell_type": "code",
   "execution_count": 1,
   "id": "9a8f8d5c",
   "metadata": {
    "ExecuteTime": {
     "end_time": "2022-04-02T15:48:29.030321Z",
     "start_time": "2022-04-02T15:48:28.953005Z"
    }
   },
   "outputs": [],
   "source": [
    "from model import OpinionModel\n",
    "from agent import OpinionAgent\n"
   ]
  },
  {
   "cell_type": "code",
   "execution_count": 7,
   "id": "37f1eb37",
   "metadata": {
    "ExecuteTime": {
     "end_time": "2022-04-02T15:49:40.727780Z",
     "start_time": "2022-04-02T15:49:40.723856Z"
    }
   },
   "outputs": [],
   "source": [
    "my_model = OpinionModel(10, 0.2, 0.05)"
   ]
  },
  {
   "cell_type": "code",
   "execution_count": 8,
   "id": "0c021e15",
   "metadata": {
    "ExecuteTime": {
     "end_time": "2022-04-02T15:49:42.205792Z",
     "start_time": "2022-04-02T15:49:42.200395Z"
    }
   },
   "outputs": [
    {
     "data": {
      "text/plain": [
       "0.5402614117051445"
      ]
     },
     "execution_count": 8,
     "metadata": {},
     "output_type": "execute_result"
    }
   ],
   "source": [
    "my_model.schedule._agents[0].x"
   ]
  },
  {
   "cell_type": "code",
   "execution_count": 9,
   "id": "e2fb902f",
   "metadata": {
    "ExecuteTime": {
     "end_time": "2022-04-02T15:49:42.907530Z",
     "start_time": "2022-04-02T15:49:42.903499Z"
    }
   },
   "outputs": [],
   "source": [
    "for i in range(10):\n",
    "    my_model.step()"
   ]
  },
  {
   "cell_type": "code",
   "execution_count": 10,
   "id": "c7dd55b5",
   "metadata": {
    "ExecuteTime": {
     "end_time": "2022-04-02T15:49:43.532185Z",
     "start_time": "2022-04-02T15:49:43.526949Z"
    }
   },
   "outputs": [
    {
     "data": {
      "text/plain": [
       "0.5449760510835862"
      ]
     },
     "execution_count": 10,
     "metadata": {},
     "output_type": "execute_result"
    }
   ],
   "source": [
    "my_model.schedule._agents[0].x"
   ]
  },
  {
   "cell_type": "code",
   "execution_count": null,
   "id": "9ab11d14",
   "metadata": {},
   "outputs": [],
   "source": []
  }
 ],
 "metadata": {
  "kernelspec": {
   "display_name": "Python 3 (ipykernel)",
   "language": "python",
   "name": "python3"
  },
  "language_info": {
   "codemirror_mode": {
    "name": "ipython",
    "version": 3
   },
   "file_extension": ".py",
   "mimetype": "text/x-python",
   "name": "python",
   "nbconvert_exporter": "python",
   "pygments_lexer": "ipython3",
   "version": "3.9.7"
  },
  "toc": {
   "base_numbering": 1,
   "nav_menu": {},
   "number_sections": true,
   "sideBar": true,
   "skip_h1_title": false,
   "title_cell": "Table of Contents",
   "title_sidebar": "Contents",
   "toc_cell": false,
   "toc_position": {},
   "toc_section_display": true,
   "toc_window_display": false
  }
 },
 "nbformat": 4,
 "nbformat_minor": 5
}
