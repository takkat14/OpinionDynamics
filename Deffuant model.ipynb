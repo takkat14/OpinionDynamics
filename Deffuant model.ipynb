{
 "cells": [
  {
   "cell_type": "code",
   "execution_count": 1,
   "id": "257404d0",
   "metadata": {
    "ExecuteTime": {
     "end_time": "2022-04-02T21:06:16.869847Z",
     "start_time": "2022-04-02T21:06:16.629361Z"
    }
   },
   "outputs": [],
   "source": [
    "from model import OpinionModel\n",
    "from agent import OpinionAgent"
   ]
  },
  {
   "cell_type": "code",
   "execution_count": 23,
   "id": "fdf004c5",
   "metadata": {
    "ExecuteTime": {
     "end_time": "2022-04-02T21:11:06.390027Z",
     "start_time": "2022-04-02T21:11:06.385821Z"
    }
   },
   "outputs": [],
   "source": [
    "my_model = OpinionModel(100, 0.5, 0.5)"
   ]
  },
  {
   "cell_type": "code",
   "execution_count": 24,
   "id": "c3a27125",
   "metadata": {
    "ExecuteTime": {
     "end_time": "2022-04-02T21:11:06.938478Z",
     "start_time": "2022-04-02T21:11:06.933493Z"
    }
   },
   "outputs": [
    {
     "data": {
      "text/plain": [
       "-0.04305067605576707"
      ]
     },
     "execution_count": 24,
     "metadata": {},
     "output_type": "execute_result"
    }
   ],
   "source": [
    "my_model.schedule._agents[0].x"
   ]
  },
  {
   "cell_type": "code",
   "execution_count": 25,
   "id": "4f310387",
   "metadata": {
    "ExecuteTime": {
     "end_time": "2022-04-02T21:11:07.550080Z",
     "start_time": "2022-04-02T21:11:07.501913Z"
    }
   },
   "outputs": [],
   "source": [
    "for i in range(100):\n",
    "    my_model.step()"
   ]
  },
  {
   "cell_type": "code",
   "execution_count": 26,
   "id": "4b9837a2",
   "metadata": {
    "ExecuteTime": {
     "end_time": "2022-04-02T21:11:07.938911Z",
     "start_time": "2022-04-02T21:11:07.933508Z"
    }
   },
   "outputs": [
    {
     "data": {
      "text/plain": [
       "0.40157810516566983"
      ]
     },
     "execution_count": 26,
     "metadata": {},
     "output_type": "execute_result"
    }
   ],
   "source": [
    "my_model.schedule._agents[0].x"
   ]
  },
  {
   "cell_type": "code",
   "execution_count": 27,
   "id": "c4d8bd2c",
   "metadata": {
    "ExecuteTime": {
     "end_time": "2022-04-02T21:11:08.497955Z",
     "start_time": "2022-04-02T21:11:08.466863Z"
    }
   },
   "outputs": [
    {
     "data": {
      "text/html": [
       "<div>\n",
       "<style scoped>\n",
       "    .dataframe tbody tr th:only-of-type {\n",
       "        vertical-align: middle;\n",
       "    }\n",
       "\n",
       "    .dataframe tbody tr th {\n",
       "        vertical-align: top;\n",
       "    }\n",
       "\n",
       "    .dataframe thead th {\n",
       "        text-align: right;\n",
       "    }\n",
       "</style>\n",
       "<table border=\"1\" class=\"dataframe\">\n",
       "  <thead>\n",
       "    <tr style=\"text-align: right;\">\n",
       "      <th></th>\n",
       "      <th></th>\n",
       "      <th>Opinion</th>\n",
       "      <th>Uncertainty</th>\n",
       "      <th>Delta X</th>\n",
       "      <th>Delta U</th>\n",
       "    </tr>\n",
       "    <tr>\n",
       "      <th>Step</th>\n",
       "      <th>AgentID</th>\n",
       "      <th></th>\n",
       "      <th></th>\n",
       "      <th></th>\n",
       "      <th></th>\n",
       "    </tr>\n",
       "  </thead>\n",
       "  <tbody>\n",
       "    <tr>\n",
       "      <th>0</th>\n",
       "      <th>0</th>\n",
       "      <td>-0.043051</td>\n",
       "      <td>0.5</td>\n",
       "      <td>0.000000e+00</td>\n",
       "      <td>0.0</td>\n",
       "    </tr>\n",
       "    <tr>\n",
       "      <th>1</th>\n",
       "      <th>0</th>\n",
       "      <td>-0.066105</td>\n",
       "      <td>0.5</td>\n",
       "      <td>-2.305431e-02</td>\n",
       "      <td>0.0</td>\n",
       "    </tr>\n",
       "    <tr>\n",
       "      <th>2</th>\n",
       "      <th>0</th>\n",
       "      <td>-0.010223</td>\n",
       "      <td>0.5</td>\n",
       "      <td>5.588209e-02</td>\n",
       "      <td>0.0</td>\n",
       "    </tr>\n",
       "    <tr>\n",
       "      <th>3</th>\n",
       "      <th>0</th>\n",
       "      <td>0.051975</td>\n",
       "      <td>0.5</td>\n",
       "      <td>6.219796e-02</td>\n",
       "      <td>0.0</td>\n",
       "    </tr>\n",
       "    <tr>\n",
       "      <th>4</th>\n",
       "      <th>0</th>\n",
       "      <td>0.066852</td>\n",
       "      <td>0.5</td>\n",
       "      <td>1.487663e-02</td>\n",
       "      <td>0.0</td>\n",
       "    </tr>\n",
       "    <tr>\n",
       "      <th>...</th>\n",
       "      <th>...</th>\n",
       "      <td>...</td>\n",
       "      <td>...</td>\n",
       "      <td>...</td>\n",
       "      <td>...</td>\n",
       "    </tr>\n",
       "    <tr>\n",
       "      <th>95</th>\n",
       "      <th>0</th>\n",
       "      <td>0.401578</td>\n",
       "      <td>0.5</td>\n",
       "      <td>4.507929e-07</td>\n",
       "      <td>0.0</td>\n",
       "    </tr>\n",
       "    <tr>\n",
       "      <th>96</th>\n",
       "      <th>0</th>\n",
       "      <td>0.401578</td>\n",
       "      <td>0.5</td>\n",
       "      <td>-6.288866e-08</td>\n",
       "      <td>0.0</td>\n",
       "    </tr>\n",
       "    <tr>\n",
       "      <th>97</th>\n",
       "      <th>0</th>\n",
       "      <td>0.401578</td>\n",
       "      <td>0.5</td>\n",
       "      <td>-2.758272e-08</td>\n",
       "      <td>0.0</td>\n",
       "    </tr>\n",
       "    <tr>\n",
       "      <th>98</th>\n",
       "      <th>0</th>\n",
       "      <td>0.401578</td>\n",
       "      <td>0.5</td>\n",
       "      <td>0.000000e+00</td>\n",
       "      <td>0.0</td>\n",
       "    </tr>\n",
       "    <tr>\n",
       "      <th>99</th>\n",
       "      <th>0</th>\n",
       "      <td>0.401578</td>\n",
       "      <td>0.5</td>\n",
       "      <td>0.000000e+00</td>\n",
       "      <td>0.0</td>\n",
       "    </tr>\n",
       "  </tbody>\n",
       "</table>\n",
       "<p>100 rows × 4 columns</p>\n",
       "</div>"
      ],
      "text/plain": [
       "               Opinion  Uncertainty       Delta X  Delta U\n",
       "Step AgentID                                              \n",
       "0    0       -0.043051          0.5  0.000000e+00      0.0\n",
       "1    0       -0.066105          0.5 -2.305431e-02      0.0\n",
       "2    0       -0.010223          0.5  5.588209e-02      0.0\n",
       "3    0        0.051975          0.5  6.219796e-02      0.0\n",
       "4    0        0.066852          0.5  1.487663e-02      0.0\n",
       "...                ...          ...           ...      ...\n",
       "95   0        0.401578          0.5  4.507929e-07      0.0\n",
       "96   0        0.401578          0.5 -6.288866e-08      0.0\n",
       "97   0        0.401578          0.5 -2.758272e-08      0.0\n",
       "98   0        0.401578          0.5  0.000000e+00      0.0\n",
       "99   0        0.401578          0.5  0.000000e+00      0.0\n",
       "\n",
       "[100 rows x 4 columns]"
      ]
     },
     "execution_count": 27,
     "metadata": {},
     "output_type": "execute_result"
    }
   ],
   "source": [
    "my_model.datacollector.get_agent_vars_dataframe().loc[(slice(0,99), 0), :]"
   ]
  },
  {
   "cell_type": "code",
   "execution_count": null,
   "id": "2b4e8aa6",
   "metadata": {},
   "outputs": [],
   "source": []
  }
 ],
 "metadata": {
  "kernelspec": {
   "display_name": "Python 3 (ipykernel)",
   "language": "python",
   "name": "python3"
  },
  "language_info": {
   "codemirror_mode": {
    "name": "ipython",
    "version": 3
   },
   "file_extension": ".py",
   "mimetype": "text/x-python",
   "name": "python",
   "nbconvert_exporter": "python",
   "pygments_lexer": "ipython3",
   "version": "3.9.7"
  },
  "toc": {
   "base_numbering": 1,
   "nav_menu": {},
   "number_sections": true,
   "sideBar": true,
   "skip_h1_title": false,
   "title_cell": "Table of Contents",
   "title_sidebar": "Contents",
   "toc_cell": false,
   "toc_position": {},
   "toc_section_display": true,
   "toc_window_display": false
  }
 },
 "nbformat": 4,
 "nbformat_minor": 5
}