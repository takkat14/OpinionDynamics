{
 "cells": [
  {
   "cell_type": "code",
   "execution_count": 33,
   "id": "257404d0",
   "metadata": {
    "ExecuteTime": {
     "end_time": "2022-04-05T23:12:18.647055Z",
     "start_time": "2022-04-05T23:12:18.476777Z"
    }
   },
   "outputs": [
    {
     "name": "stdout",
     "output_type": "stream",
     "text": [
      "The autoreload extension is already loaded. To reload it, use:\n",
      "  %reload_ext autoreload\n"
     ]
    }
   ],
   "source": [
    "%load_ext autoreload\n",
    "%autoreload 2\n",
    "from model import OpinionModel\n",
    "from agent import OpinionAgent"
   ]
  },
  {
   "cell_type": "code",
   "execution_count": 76,
   "id": "fdf004c5",
   "metadata": {
    "ExecuteTime": {
     "end_time": "2022-04-05T23:14:17.195564Z",
     "start_time": "2022-04-05T23:14:17.164304Z"
    }
   },
   "outputs": [],
   "source": [
    "my_model = OpinionModel(num_agents=1000,\n",
    "                        mu=0.5,\n",
    "                        init_u=0.5, extremist_ratio=0.3, d=0.2, \n",
    "                        extremist_u=0.05, regime=\"p2p\",\n",
    "                        max_iter=1e+5,\n",
    "                        eps=1e-8\n",
    "                       )"
   ]
  },
  {
   "cell_type": "code",
   "execution_count": 77,
   "id": "c3a27125",
   "metadata": {
    "ExecuteTime": {
     "end_time": "2022-04-05T23:14:18.019556Z",
     "start_time": "2022-04-05T23:14:17.991433Z"
    }
   },
   "outputs": [
    {
     "data": {
      "text/plain": [
       "-0.999188120605425"
      ]
     },
     "execution_count": 77,
     "metadata": {},
     "output_type": "execute_result"
    }
   ],
   "source": [
    "my_model.schedule._agents[0].x"
   ]
  },
  {
   "cell_type": "code",
   "execution_count": 78,
   "id": "4f310387",
   "metadata": {
    "ExecuteTime": {
     "end_time": "2022-04-05T23:14:24.088335Z",
     "start_time": "2022-04-05T23:14:18.294512Z"
    }
   },
   "outputs": [
    {
     "name": "stdout",
     "output_type": "stream",
     "text": [
      "Elapsed 0 steps\n",
      "Elapsed 100 steps\n",
      "Elapsed 200 steps\n",
      "Elapsed 300 steps\n",
      "Elapsed 400 steps\n",
      "Elapsed 500 steps\n",
      "Elapsed 600 steps\n",
      "Elapsed 700 steps\n",
      "Elapsed 800 steps\n",
      "Elapsed 900 steps\n",
      "Elapsed 1000 steps\n",
      "Elapsed 1100 steps\n",
      "Elapsed 1200 steps\n",
      "Elapsed 1300 steps\n",
      "Elapsed 1400 steps\n",
      "Elapsed 1500 steps\n",
      "Elapsed 1600 steps\n",
      "Elapsed 1700 steps\n",
      "Elapsed 1800 steps\n",
      "Elapsed 1900 steps\n"
     ]
    }
   ],
   "source": [
    "my_model.run_model()"
   ]
  },
  {
   "cell_type": "code",
   "execution_count": 79,
   "id": "4b9837a2",
   "metadata": {
    "ExecuteTime": {
     "end_time": "2022-04-05T23:14:24.107113Z",
     "start_time": "2022-04-05T23:14:24.089755Z"
    }
   },
   "outputs": [
    {
     "data": {
      "text/plain": [
       "-0.944735517834659"
      ]
     },
     "execution_count": 79,
     "metadata": {},
     "output_type": "execute_result"
    }
   ],
   "source": [
    "my_model.schedule._agents[0].x"
   ]
  },
  {
   "cell_type": "code",
   "execution_count": 80,
   "id": "c4d8bd2c",
   "metadata": {
    "ExecuteTime": {
     "end_time": "2022-04-05T23:14:26.442511Z",
     "start_time": "2022-04-05T23:14:24.750794Z"
    }
   },
   "outputs": [
    {
     "data": {
      "text/html": [
       "<div>\n",
       "<style scoped>\n",
       "    .dataframe tbody tr th:only-of-type {\n",
       "        vertical-align: middle;\n",
       "    }\n",
       "\n",
       "    .dataframe tbody tr th {\n",
       "        vertical-align: top;\n",
       "    }\n",
       "\n",
       "    .dataframe thead th {\n",
       "        text-align: right;\n",
       "    }\n",
       "</style>\n",
       "<table border=\"1\" class=\"dataframe\">\n",
       "  <thead>\n",
       "    <tr style=\"text-align: right;\">\n",
       "      <th></th>\n",
       "      <th>Step</th>\n",
       "      <th>AgentID</th>\n",
       "      <th>Opinion</th>\n",
       "      <th>Uncertainty</th>\n",
       "      <th>Delta X</th>\n",
       "      <th>Delta U</th>\n",
       "    </tr>\n",
       "  </thead>\n",
       "  <tbody>\n",
       "    <tr>\n",
       "      <th>0</th>\n",
       "      <td>0</td>\n",
       "      <td>0</td>\n",
       "      <td>-0.999188</td>\n",
       "      <td>0.050000</td>\n",
       "      <td>0.000000e+00</td>\n",
       "      <td>0.000000e+00</td>\n",
       "    </tr>\n",
       "    <tr>\n",
       "      <th>1</th>\n",
       "      <td>0</td>\n",
       "      <td>1</td>\n",
       "      <td>-0.998856</td>\n",
       "      <td>0.050000</td>\n",
       "      <td>0.000000e+00</td>\n",
       "      <td>0.000000e+00</td>\n",
       "    </tr>\n",
       "    <tr>\n",
       "      <th>2</th>\n",
       "      <td>0</td>\n",
       "      <td>2</td>\n",
       "      <td>-0.996617</td>\n",
       "      <td>0.050000</td>\n",
       "      <td>0.000000e+00</td>\n",
       "      <td>0.000000e+00</td>\n",
       "    </tr>\n",
       "    <tr>\n",
       "      <th>3</th>\n",
       "      <td>0</td>\n",
       "      <td>3</td>\n",
       "      <td>-0.994649</td>\n",
       "      <td>0.050000</td>\n",
       "      <td>0.000000e+00</td>\n",
       "      <td>0.000000e+00</td>\n",
       "    </tr>\n",
       "    <tr>\n",
       "      <th>4</th>\n",
       "      <td>0</td>\n",
       "      <td>4</td>\n",
       "      <td>-0.992909</td>\n",
       "      <td>0.050000</td>\n",
       "      <td>0.000000e+00</td>\n",
       "      <td>0.000000e+00</td>\n",
       "    </tr>\n",
       "    <tr>\n",
       "      <th>...</th>\n",
       "      <td>...</td>\n",
       "      <td>...</td>\n",
       "      <td>...</td>\n",
       "      <td>...</td>\n",
       "      <td>...</td>\n",
       "      <td>...</td>\n",
       "    </tr>\n",
       "    <tr>\n",
       "      <th>1960995</th>\n",
       "      <td>1960</td>\n",
       "      <td>995</td>\n",
       "      <td>0.963784</td>\n",
       "      <td>0.050068</td>\n",
       "      <td>5.139666e-11</td>\n",
       "      <td>-2.146894e-13</td>\n",
       "    </tr>\n",
       "    <tr>\n",
       "      <th>1960996</th>\n",
       "      <td>1960</td>\n",
       "      <td>996</td>\n",
       "      <td>0.963784</td>\n",
       "      <td>0.050068</td>\n",
       "      <td>0.000000e+00</td>\n",
       "      <td>0.000000e+00</td>\n",
       "    </tr>\n",
       "    <tr>\n",
       "      <th>1960997</th>\n",
       "      <td>1960</td>\n",
       "      <td>997</td>\n",
       "      <td>0.963784</td>\n",
       "      <td>0.050068</td>\n",
       "      <td>0.000000e+00</td>\n",
       "      <td>0.000000e+00</td>\n",
       "    </tr>\n",
       "    <tr>\n",
       "      <th>1960998</th>\n",
       "      <td>1960</td>\n",
       "      <td>998</td>\n",
       "      <td>0.963784</td>\n",
       "      <td>0.050068</td>\n",
       "      <td>0.000000e+00</td>\n",
       "      <td>0.000000e+00</td>\n",
       "    </tr>\n",
       "    <tr>\n",
       "      <th>1960999</th>\n",
       "      <td>1960</td>\n",
       "      <td>999</td>\n",
       "      <td>0.963784</td>\n",
       "      <td>0.050068</td>\n",
       "      <td>0.000000e+00</td>\n",
       "      <td>0.000000e+00</td>\n",
       "    </tr>\n",
       "  </tbody>\n",
       "</table>\n",
       "<p>1961000 rows × 6 columns</p>\n",
       "</div>"
      ],
      "text/plain": [
       "         Step  AgentID   Opinion  Uncertainty       Delta X       Delta U\n",
       "0           0        0 -0.999188     0.050000  0.000000e+00  0.000000e+00\n",
       "1           0        1 -0.998856     0.050000  0.000000e+00  0.000000e+00\n",
       "2           0        2 -0.996617     0.050000  0.000000e+00  0.000000e+00\n",
       "3           0        3 -0.994649     0.050000  0.000000e+00  0.000000e+00\n",
       "4           0        4 -0.992909     0.050000  0.000000e+00  0.000000e+00\n",
       "...       ...      ...       ...          ...           ...           ...\n",
       "1960995  1960      995  0.963784     0.050068  5.139666e-11 -2.146894e-13\n",
       "1960996  1960      996  0.963784     0.050068  0.000000e+00  0.000000e+00\n",
       "1960997  1960      997  0.963784     0.050068  0.000000e+00  0.000000e+00\n",
       "1960998  1960      998  0.963784     0.050068  0.000000e+00  0.000000e+00\n",
       "1960999  1960      999  0.963784     0.050068  0.000000e+00  0.000000e+00\n",
       "\n",
       "[1961000 rows x 6 columns]"
      ]
     },
     "execution_count": 80,
     "metadata": {},
     "output_type": "execute_result"
    }
   ],
   "source": [
    "my_model.datacollector.get_agent_vars_dataframe().reset_index()"
   ]
  },
  {
   "cell_type": "code",
   "execution_count": 81,
   "id": "927d92b7",
   "metadata": {
    "ExecuteTime": {
     "end_time": "2022-04-05T23:14:26.462776Z",
     "start_time": "2022-04-05T23:14:26.444223Z"
    }
   },
   "outputs": [
    {
     "data": {
      "text/plain": [
       "1961"
      ]
     },
     "execution_count": 81,
     "metadata": {},
     "output_type": "execute_result"
    }
   ],
   "source": [
    "my_model.schedule.steps"
   ]
  },
  {
   "cell_type": "code",
   "execution_count": 82,
   "id": "20babb14",
   "metadata": {
    "ExecuteTime": {
     "end_time": "2022-04-05T23:14:26.482090Z",
     "start_time": "2022-04-05T23:14:26.466163Z"
    }
   },
   "outputs": [],
   "source": [
    "import seaborn as sns"
   ]
  },
  {
   "cell_type": "code",
   "execution_count": 85,
   "id": "2b4e8aa6",
   "metadata": {
    "ExecuteTime": {
     "end_time": "2022-04-05T23:15:08.890830Z",
     "start_time": "2022-04-05T23:14:28.952627Z"
    }
   },
   "outputs": [
    {
     "data": {
      "text/plain": [
       "<AxesSubplot:xlabel='Step', ylabel='Opinion'>"
      ]
     },
     "execution_count": 85,
     "metadata": {},
     "output_type": "execute_result"
    },
    {
     "data": {
      "image/png": "[encoded data removed]",
      "text/plain": [
       "<Figure size 432x288 with 1 Axes>"
      ]
     },
     "metadata": {},
     "output_type": "display_data"
    }
   ],
   "source": [
    "import seaborn as sns\n",
    "opinions = my_model.datacollector.get_agent_vars_dataframe().reset_index()\n",
    "sns.lineplot(data=opinions, x='Step', y='Opinion', hue='AgentID')"
   ]
  },
  {
   "cell_type": "code",
   "execution_count": 16,
   "id": "8c16e1e0",
   "metadata": {
    "ExecuteTime": {
     "end_time": "2022-04-05T22:28:55.400946Z",
     "start_time": "2022-04-05T22:28:55.366267Z"
    }
   },
   "outputs": [],
   "source": [
    "df = my_model.datacollector.get_agent_vars_dataframe().reset_index()"
   ]
  },
  {
   "cell_type": "code",
   "execution_count": 17,
   "id": "8826500b",
   "metadata": {
    "ExecuteTime": {
     "end_time": "2022-04-05T22:29:05.789919Z",
     "start_time": "2022-04-05T22:29:05.754801Z"
    }
   },
   "outputs": [
    {
     "data": {
      "text/html": [
       "<div>\n",
       "<style scoped>\n",
       "    .dataframe tbody tr th:only-of-type {\n",
       "        vertical-align: middle;\n",
       "    }\n",
       "\n",
       "    .dataframe tbody tr th {\n",
       "        vertical-align: top;\n",
       "    }\n",
       "\n",
       "    .dataframe thead th {\n",
       "        text-align: right;\n",
       "    }\n",
       "</style>\n",
       "<table border=\"1\" class=\"dataframe\">\n",
       "  <thead>\n",
       "    <tr style=\"text-align: right;\">\n",
       "      <th></th>\n",
       "      <th>Step</th>\n",
       "      <th>AgentID</th>\n",
       "      <th>Opinion</th>\n",
       "      <th>Uncertainty</th>\n",
       "      <th>Delta X</th>\n",
       "      <th>Delta U</th>\n",
       "    </tr>\n",
       "  </thead>\n",
       "  <tbody>\n",
       "    <tr>\n",
       "      <th>10</th>\n",
       "      <td>0</td>\n",
       "      <td>10</td>\n",
       "      <td>-0.818181</td>\n",
       "      <td>0.5</td>\n",
       "      <td>0</td>\n",
       "      <td>0</td>\n",
       "    </tr>\n",
       "  </tbody>\n",
       "</table>\n",
       "</div>"
      ],
      "text/plain": [
       "    Step  AgentID   Opinion  Uncertainty  Delta X  Delta U\n",
       "10     0       10 -0.818181          0.5        0        0"
      ]
     },
     "execution_count": 17,
     "metadata": {},
     "output_type": "execute_result"
    }
   ],
   "source": [
    "df[df['AgentID'] == 10]"
   ]
  },
  {
   "cell_type": "code",
   "execution_count": 86,
   "id": "e64d96d0",
   "metadata": {
    "ExecuteTime": {
     "end_time": "2022-04-05T23:29:03.951057Z",
     "start_time": "2022-04-05T23:29:03.281322Z"
    }
   },
   "outputs": [],
   "source": [
    "from mesa.batchrunner import batch_run"
   ]
  },
  {
   "cell_type": "code",
   "execution_count": null,
   "id": "9c8dfe3c",
   "metadata": {},
   "outputs": [],
   "source": [
    "params = {\n",
    "    num_agents: [1000],\n",
    "    mu=[],\n",
    "    init_u=0.5, extremist_ratio=0.3, d=0.2, \n",
    "    extremist_u=0.05, regime=\"p2p\",\n",
    "    max_iter=1e+5,\n",
    "    eps=1e-8\n",
    "}"
   ]
  },
  {
   "cell_type": "code",
   "execution_count": null,
   "id": "f79a5caf",
   "metadata": {},
   "outputs": [],
   "source": [
    "batch_run(OpinionModel, )"
   ]
  }
 ],
 "metadata": {
  "kernelspec": {
   "display_name": "Python 3 (ipykernel)",
   "language": "python",
   "name": "python3"
  },
  "language_info": {
   "codemirror_mode": {
    "name": "ipython",
    "version": 3
   },
   "file_extension": ".py",
   "mimetype": "text/x-python",
   "name": "python",
   "nbconvert_exporter": "python",
   "pygments_lexer": "ipython3",
   "version": "3.9.7"
  },
  "toc": {
   "base_numbering": 1,
   "nav_menu": {},
   "number_sections": true,
   "sideBar": true,
   "skip_h1_title": false,
   "title_cell": "Table of Contents",
   "title_sidebar": "Contents",
   "toc_cell": false,
   "toc_position": {},
   "toc_section_display": true,
   "toc_window_display": false
  }
 },
 "nbformat": 4,
 "nbformat_minor": 5
}