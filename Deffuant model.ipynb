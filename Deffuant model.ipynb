{
 "cells": [
  {
   "cell_type": "code",
   "execution_count": 21,
   "id": "257404d0",
   "metadata": {
    "ExecuteTime": {
     "end_time": "2022-04-06T11:09:25.070736Z",
     "start_time": "2022-04-06T11:09:24.980054Z"
    }
   },
   "outputs": [
    {
     "name": "stdout",
     "output_type": "stream",
     "text": [
      "The autoreload extension is already loaded. To reload it, use:\n",
      "  %reload_ext autoreload\n"
     ]
    }
   ],
   "source": [
    "%load_ext autoreload\n",
    "%autoreload 2\n",
    "from model.model import OpinionModel"
   ]
  },
  {
   "cell_type": "code",
   "execution_count": 22,
   "id": "97f7aacf",
   "metadata": {
    "ExecuteTime": {
     "end_time": "2022-04-06T11:09:25.298545Z",
     "start_time": "2022-04-06T11:09:25.151959Z"
    }
   },
   "outputs": [
    {
     "name": "stdout",
     "output_type": "stream",
     "text": [
      "Deffuant model.ipynb \u001B[1m\u001B[36m__pycache__\u001B[m\u001B[m          \u001B[1m\u001B[36mmodel\u001B[m\u001B[m\r\n",
      "README.md            experiment_setup.py\r\n"
     ]
    }
   ],
   "source": [
    "! ls"
   ]
  },
  {
   "cell_type": "code",
   "execution_count": 23,
   "id": "fdf004c5",
   "metadata": {
    "ExecuteTime": {
     "end_time": "2022-04-06T11:09:25.368959Z",
     "start_time": "2022-04-06T11:09:25.342221Z"
    }
   },
   "outputs": [],
   "source": [
    "my_model = OpinionModel(num_agents=200,\n",
    "                        mu=0.5,\n",
    "                        init_u=0.4, extremist_ratio=0.3, d=.0, \n",
    "                        extremist_u=0.1, regime=\"p2p\",\n",
    "                        max_iter=1e+5,\n",
    "                        eps=1e-4\n",
    "                       )"
   ]
  },
  {
   "cell_type": "code",
   "execution_count": 24,
   "id": "c3a27125",
   "metadata": {
    "ExecuteTime": {
     "end_time": "2022-04-06T11:09:25.543161Z",
     "start_time": "2022-04-06T11:09:25.515568Z"
    }
   },
   "outputs": [
    {
     "data": {
      "text/plain": [
       "-0.998856207744113"
      ]
     },
     "execution_count": 24,
     "metadata": {},
     "output_type": "execute_result"
    }
   ],
   "source": [
    "my_model.schedule._agents[0].x"
   ]
  },
  {
   "cell_type": "code",
   "execution_count": 25,
   "id": "4f310387",
   "metadata": {
    "ExecuteTime": {
     "end_time": "2022-04-06T11:09:25.842669Z",
     "start_time": "2022-04-06T11:09:25.697081Z"
    }
   },
   "outputs": [
    {
     "name": "stdout",
     "output_type": "stream",
     "text": [
      "Elapsed 0 steps\n",
      "Elapsed 100 steps\n"
     ]
    }
   ],
   "source": [
    "my_model.run_model()"
   ]
  },
  {
   "cell_type": "code",
   "execution_count": 26,
   "id": "4b9837a2",
   "metadata": {
    "ExecuteTime": {
     "end_time": "2022-04-06T11:09:25.881627Z",
     "start_time": "2022-04-06T11:09:25.870181Z"
    }
   },
   "outputs": [
    {
     "data": {
      "text/plain": [
       "-0.9416033563345548"
      ]
     },
     "execution_count": 26,
     "metadata": {},
     "output_type": "execute_result"
    }
   ],
   "source": [
    "my_model.schedule._agents[0].x"
   ]
  },
  {
   "cell_type": "code",
   "execution_count": 27,
   "id": "c4d8bd2c",
   "metadata": {
    "ExecuteTime": {
     "end_time": "2022-04-06T11:09:26.525858Z",
     "start_time": "2022-04-06T11:09:26.463902Z"
    }
   },
   "outputs": [
    {
     "data": {
      "text/plain": [
       "{-0.9, -0.8, -0.4, 0.0, 0.8, 0.9}"
      ]
     },
     "execution_count": 27,
     "metadata": {},
     "output_type": "execute_result"
    }
   ],
   "source": [
    "set(my_model.datacollector.get_agent_vars_dataframe().tail(200)['Opinion'].apply(lambda x: round(x, 1)))"
   ]
  },
  {
   "cell_type": "code",
   "execution_count": 28,
   "id": "927d92b7",
   "metadata": {
    "ExecuteTime": {
     "end_time": "2022-04-06T11:09:26.954535Z",
     "start_time": "2022-04-06T11:09:26.924234Z"
    }
   },
   "outputs": [
    {
     "data": {
      "text/plain": [
       "200"
      ]
     },
     "execution_count": 28,
     "metadata": {},
     "output_type": "execute_result"
    }
   ],
   "source": [
    "my_model.schedule.steps"
   ]
  },
  {
   "cell_type": "code",
   "execution_count": 29,
   "id": "42a15d47",
   "metadata": {
    "ExecuteTime": {
     "end_time": "2022-04-06T11:09:27.770934Z",
     "start_time": "2022-04-06T11:09:27.737207Z"
    }
   },
   "outputs": [
    {
     "ename": "AttributeError",
     "evalue": "'numpy.ndarray' object has no attribute 'apply'",
     "output_type": "error",
     "traceback": [
      "\u001B[0;31m---------------------------------------------------------------------------\u001B[0m",
      "\u001B[0;31mAttributeError\u001B[0m                            Traceback (most recent call last)",
      "Input \u001B[0;32mIn [29]\u001B[0m, in \u001B[0;36m<module>\u001B[0;34m\u001B[0m\n\u001B[0;32m----> 1\u001B[0m \u001B[43mmy_model\u001B[49m\u001B[38;5;241;43m.\u001B[39;49m\u001B[43mget_clusters\u001B[49m\u001B[43m(\u001B[49m\u001B[43m)\u001B[49m\n",
      "File \u001B[0;32m~/Documents/Фтиад/Армен/OpinionDynamics/model/model.py:66\u001B[0m, in \u001B[0;36mget_clusters\u001B[0;34m(self)\u001B[0m\n",
      "\u001B[0;31mAttributeError\u001B[0m: 'numpy.ndarray' object has no attribute 'apply'"
     ]
    }
   ],
   "source": [
    "my_model.get_clusters()"
   ]
  },
  {
   "cell_type": "code",
   "execution_count": 135,
   "id": "20babb14",
   "metadata": {
    "ExecuteTime": {
     "end_time": "2022-04-06T10:21:53.943679Z",
     "start_time": "2022-04-06T10:21:53.914745Z"
    }
   },
   "outputs": [],
   "source": [
    "import seaborn as sns"
   ]
  },
  {
   "cell_type": "code",
   "execution_count": 136,
   "id": "2b4e8aa6",
   "metadata": {
    "ExecuteTime": {
     "end_time": "2022-04-06T10:21:56.250643Z",
     "start_time": "2022-04-06T10:21:54.391664Z"
    }
   },
   "outputs": [
    {
     "data": {
      "text/plain": [
       "<AxesSubplot:xlabel='Step', ylabel='Opinion'>"
      ]
     },
     "execution_count": 136,
     "metadata": {},
     "output_type": "execute_result"
    },
    {
     "data": {
      "image/png": "[encoded data removed]",
      "text/plain": [
       "<Figure size 432x288 with 1 Axes>"
      ]
     },
     "metadata": {},
     "output_type": "display_data"
    }
   ],
   "source": [
    "import seaborn as sns\n",
    "opinions = my_model.datacollector.get_agent_vars_dataframe().reset_index()\n",
    "sns.lineplot(data=opinions, x='Step', y='Opinion', hue='AgentID')"
   ]
  },
  {
   "cell_type": "code",
   "execution_count": 16,
   "id": "8c16e1e0",
   "metadata": {
    "ExecuteTime": {
     "end_time": "2022-04-05T22:28:55.400946Z",
     "start_time": "2022-04-05T22:28:55.366267Z"
    }
   },
   "outputs": [],
   "source": [
    "df = my_model.datacollector.get_agent_vars_dataframe().reset_index()"
   ]
  },
  {
   "cell_type": "code",
   "execution_count": 17,
   "id": "46f5e7cc",
   "metadata": {
    "ExecuteTime": {
     "end_time": "2022-04-05T22:29:05.789919Z",
     "start_time": "2022-04-05T22:29:05.754801Z"
    }
   },
   "outputs": [
    {
     "data": {
      "text/html": [
       "<div>\n",
       "<style scoped>\n",
       "    .dataframe tbody tr th:only-of-type {\n",
       "        vertical-align: middle;\n",
       "    }\n",
       "\n",
       "    .dataframe tbody tr th {\n",
       "        vertical-align: top;\n",
       "    }\n",
       "\n",
       "    .dataframe thead th {\n",
       "        text-align: right;\n",
       "    }\n",
       "</style>\n",
       "<table border=\"1\" class=\"dataframe\">\n",
       "  <thead>\n",
       "    <tr style=\"text-align: right;\">\n",
       "      <th></th>\n",
       "      <th>Step</th>\n",
       "      <th>AgentID</th>\n",
       "      <th>Opinion</th>\n",
       "      <th>Uncertainty</th>\n",
       "      <th>Delta X</th>\n",
       "      <th>Delta U</th>\n",
       "    </tr>\n",
       "  </thead>\n",
       "  <tbody>\n",
       "    <tr>\n",
       "      <th>10</th>\n",
       "      <td>0</td>\n",
       "      <td>10</td>\n",
       "      <td>-0.818181</td>\n",
       "      <td>0.5</td>\n",
       "      <td>0</td>\n",
       "      <td>0</td>\n",
       "    </tr>\n",
       "  </tbody>\n",
       "</table>\n",
       "</div>"
      ],
      "text/plain": [
       "    Step  AgentID   Opinion  Uncertainty  Delta X  Delta U\n",
       "10     0       10 -0.818181          0.5        0        0"
      ]
     },
     "execution_count": 17,
     "metadata": {},
     "output_type": "execute_result"
    }
   ],
   "source": [
    "df[df['AgentID'] == 10]"
   ]
  },
  {
   "cell_type": "code",
   "execution_count": 86,
   "id": "8a159b47",
   "metadata": {
    "ExecuteTime": {
     "end_time": "2022-04-05T23:29:03.951057Z",
     "start_time": "2022-04-05T23:29:03.281322Z"
    }
   },
   "outputs": [],
   "source": [
    "from mesa.batchrunner import batch_run"
   ]
  },
  {
   "cell_type": "code",
   "execution_count": null,
   "id": "01cb3a3f",
   "metadata": {},
   "outputs": [],
   "source": [
    "params = {\n",
    "    num_agents: [1000],\n",
    "    mu=[],\n",
    "    init_u=0.5, extremist_ratio=0.3, d=0.2, \n",
    "    extremist_u=0.05, regime=\"p2p\",\n",
    "    max_iter=1e+5,\n",
    "    eps=1e-8\n",
    "}"
   ]
  },
  {
   "cell_type": "code",
   "execution_count": null,
   "id": "e07bc910",
   "metadata": {},
   "outputs": [],
   "source": [
    "batch_run(OpinionModel, )"
   ]
  }
 ],
 "metadata": {
  "kernelspec": {
   "display_name": "Python 3 (ipykernel)",
   "language": "python",
   "name": "python3"
  },
  "language_info": {
   "codemirror_mode": {
    "name": "ipython",
    "version": 3
   },
   "file_extension": ".py",
   "mimetype": "text/x-python",
   "name": "python",
   "nbconvert_exporter": "python",
   "pygments_lexer": "ipython3",
   "version": "3.9.7"
  },
  "toc": {
   "base_numbering": 1,
   "nav_menu": {},
   "number_sections": true,
   "sideBar": true,
   "skip_h1_title": false,
   "title_cell": "Table of Contents",
   "title_sidebar": "Contents",
   "toc_cell": false,
   "toc_position": {},
   "toc_section_display": true,
   "toc_window_display": false
  }
 },
 "nbformat": 4,
 "nbformat_minor": 5
}